{
 "cells": [
  {
   "cell_type": "code",
   "execution_count": null,
   "id": "121053b6-3485-4e95-8011-d40cc1926cfb",
   "metadata": {},
   "outputs": [],
   "source": [
    "Ans1. Guido van Rossum"
   ]
  },
  {
   "cell_type": "code",
   "execution_count": null,
   "id": "385274df-3f3b-4ff5-a665-ee9ecffcfc1a",
   "metadata": {},
   "outputs": [],
   "source": [
    "Ans2. object oriented and dynamic type pragramming "
   ]
  },
  {
   "cell_type": "code",
   "execution_count": null,
   "id": "d98a7f92-e952-4731-ad81-80369b25c7fd",
   "metadata": {},
   "outputs": [],
   "source": [
    "Ans.3 yes"
   ]
  },
  {
   "cell_type": "code",
   "execution_count": null,
   "id": "971e5210-1e7f-470b-a7bf-76170b0318d9",
   "metadata": {},
   "outputs": [],
   "source": [
    "Ans4. .py"
   ]
  },
  {
   "cell_type": "code",
   "execution_count": null,
   "id": "2940ccf0-cf61-4be0-8cc1-51bd176f2f30",
   "metadata": {},
   "outputs": [],
   "source": [
    "Ans5. interpreted"
   ]
  },
  {
   "cell_type": "code",
   "execution_count": null,
   "id": "234e887f-8c37-48e1-8307-699d448a7a0c",
   "metadata": {},
   "outputs": [],
   "source": [
    "Ans6. if condition():\n",
    "        statement1 \n",
    "      else :\n",
    "        statement2\n",
    " \n",
    "Indentation is used to define a block of code\n",
    "        "
   ]
  },
  {
   "cell_type": "code",
   "execution_count": null,
   "id": "0b3db139-6554-4725-af0b-57c668c88639",
   "metadata": {},
   "outputs": [],
   "source": [
    "Ans7. # "
   ]
  },
  {
   "cell_type": "code",
   "execution_count": null,
   "id": "043d359d-035b-442a-935e-f24fed0dfae3",
   "metadata": {},
   "outputs": [],
   "source": [
    "Ans8. import sys \n",
    "      print(sys.executable)\n",
    "      print(sys.version)\n",
    "      print(sys.version_info)  "
   ]
  },
  {
   "cell_type": "code",
   "execution_count": null,
   "id": "92354dc2-eb76-4578-abdf-b8e4a125851d",
   "metadata": {},
   "outputs": [],
   "source": [
    "Ans9.Lamda"
   ]
  },
  {
   "cell_type": "code",
   "execution_count": null,
   "id": "a70ef9d1-a115-423b-9689-12ad92ae553b",
   "metadata": {},
   "outputs": [],
   "source": [
    "Ans10. Pip stands in python Preferred installer program"
   ]
  },
  {
   "cell_type": "code",
   "execution_count": null,
   "id": "75d0eae4-189b-48c9-a34c-2da0d05b87ca",
   "metadata": {},
   "outputs": [],
   "source": [
    "Ans11. len()\n",
    "       type()\n",
    "       sum()\n",
    "       range()\n",
    "       input()"
   ]
  },
  {
   "cell_type": "code",
   "execution_count": null,
   "id": "aa70d6b1-760d-4789-84b3-5bd858cb8d61",
   "metadata": {},
   "outputs": [],
   "source": [
    "Ans12. In python an identifier can have a maximum 79 character"
   ]
  },
  {
   "cell_type": "code",
   "execution_count": null,
   "id": "f85e223c-bb50-4a45-8c8a-af985ab357f2",
   "metadata": {},
   "outputs": [],
   "source": [
    "Ans13. Benefits:\n",
    "      1- Increased productivity\n",
    "      2- Dynamically typed\n",
    "      3- Portability\n",
    "      4- IOT opportunities\n",
    "      5- interpreted Language"
   ]
  },
  {
   "cell_type": "code",
   "execution_count": null,
   "id": "53cfad0c-8d09-4b7d-b986-33337b2390b1",
   "metadata": {},
   "outputs": [],
   "source": [
    "Ans14. Memory management in python involves a private heap containing all objects and data structures.\n",
    "       The management of this private heap is ensured internally byy the python memory manager. "
   ]
  },
  {
   "cell_type": "code",
   "execution_count": null,
   "id": "1d8bc252-ebd8-4054-ab2a-7d58371ea5cc",
   "metadata": {},
   "outputs": [],
   "source": [
    "Ans15. Open a browser to the python website and download the windows installer.\n",
    "       Double click on the downloaded file and install python for all users ,and ensure that python is added \n",
    "       to your path.\n",
    "       Click on install now to begin. "
   ]
  },
  {
   "cell_type": "code",
   "execution_count": null,
   "id": "fce26518-444e-486f-adb9-68920c8d4c89",
   "metadata": {},
   "outputs": [],
   "source": []
  }
 ],
 "metadata": {
  "kernelspec": {
   "display_name": "Python 3 (ipykernel)",
   "language": "python",
   "name": "python3"
  },
  "language_info": {
   "codemirror_mode": {
    "name": "ipython",
    "version": 3
   },
   "file_extension": ".py",
   "mimetype": "text/x-python",
   "name": "python",
   "nbconvert_exporter": "python",
   "pygments_lexer": "ipython3",
   "version": "3.10.6"
  }
 },
 "nbformat": 4,
 "nbformat_minor": 5
}
