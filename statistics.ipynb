{
 "cells": [
  {
   "cell_type": "code",
   "execution_count": null,
   "id": "b09a83fb-0342-4108-8903-8234456bb24d",
   "metadata": {},
   "outputs": [],
   "source": [
    "Answer1."
   ]
  },
  {
   "cell_type": "code",
   "execution_count": null,
   "id": "bd2057e6-104c-4cda-b742-567cc43f7a19",
   "metadata": {},
   "outputs": [],
   "source": [
    "Statistics is the science of collecting , organizing and analyzing the data."
   ]
  },
  {
   "cell_type": "code",
   "execution_count": null,
   "id": "f0de7da9-c68b-40ec-90ab-31fb7f836188",
   "metadata": {},
   "outputs": [],
   "source": [
    "Answer2."
   ]
  },
  {
   "cell_type": "code",
   "execution_count": null,
   "id": "57635770-d002-433f-a2f6-2d6eda4bc0f3",
   "metadata": {},
   "outputs": [],
   "source": [
    "There are  2 types of the statistics:\n",
    "    1. Descrptive \n",
    "    2. Infrential"
   ]
  },
  {
   "cell_type": "code",
   "execution_count": null,
   "id": "6bf935a5-6fae-4492-bd9e-674ff3d0fb2d",
   "metadata": {},
   "outputs": [],
   "source": [
    "Descriptive: it consists os organizing and summarizing the data.\n",
    "  eg: avg height"
   ]
  },
  {
   "cell_type": "code",
   "execution_count": null,
   "id": "059e41e6-3e15-45e7-83cf-6bdd5aa3bcf7",
   "metadata": {},
   "outputs": [],
   "source": [
    "Infrential: it consists of using data you have measured to form conclusion.\n",
    "  eg: exit poll"
   ]
  },
  {
   "cell_type": "code",
   "execution_count": null,
   "id": "877f2fd3-6148-44c0-a8f8-91ad6ee1562f",
   "metadata": {},
   "outputs": [],
   "source": [
    "Answer3."
   ]
  },
  {
   "cell_type": "code",
   "execution_count": null,
   "id": "976a1deb-b445-4810-8536-72651a6bf6c5",
   "metadata": {},
   "outputs": [],
   "source": [
    "Types of the data:\n",
    "    1. Quantitative Data\n",
    "    2. Qualitative Data"
   ]
  },
  {
   "cell_type": "code",
   "execution_count": null,
   "id": "d1a10681-7247-4838-b182-5d03b3e801bc",
   "metadata": {},
   "outputs": [],
   "source": [
    "Quantitative Data:\n",
    "    It consists numerical values\n",
    "there are two types of the quantitative data:\n",
    "    1.Discrete \n",
    "    2.continuous"
   ]
  },
  {
   "cell_type": "code",
   "execution_count": null,
   "id": "4f8693ef-8e15-4c25-b24b-ba2a9d505b91",
   "metadata": {},
   "outputs": [],
   "source": [
    "Discrete: \n",
    "    eg:\n",
    "        no. of bank accounts\n",
    "        no. of children in family"
   ]
  },
  {
   "cell_type": "code",
   "execution_count": null,
   "id": "de71bf86-ca15-46ff-8f4c-a48184835762",
   "metadata": {},
   "outputs": [],
   "source": [
    "continuous:\n",
    "    eg:\n",
    "        Height\n",
    "        weight\n",
    "        speed etc\n",
    "        "
   ]
  },
  {
   "cell_type": "code",
   "execution_count": null,
   "id": "171e1750-f4f3-4ceb-ace3-fc79b97ae419",
   "metadata": {},
   "outputs": [],
   "source": [
    "Qualitative data:\n",
    "    it consists categorical variable\n",
    "there are 2 types of the qualitative data\n",
    "1.Nominal\n",
    "2.odinal"
   ]
  },
  {
   "cell_type": "code",
   "execution_count": null,
   "id": "d167f8d7-d2f3-4d76-a08c-ebe5dcde97aa",
   "metadata": {},
   "outputs": [],
   "source": [
    "Nomoinal data:\n",
    "    eg:\n",
    "        gender\n",
    "        blood group\n",
    "        pin code"
   ]
  },
  {
   "cell_type": "code",
   "execution_count": null,
   "id": "3e096234-5f62-4e45-9153-f4b71c01c228",
   "metadata": {},
   "outputs": [],
   "source": [
    "Odinal data:\n",
    "    eg:\n",
    "        customer feedback\n",
    "        1. best\n",
    "        2. good\n",
    "        3. bad"
   ]
  },
  {
   "cell_type": "code",
   "execution_count": null,
   "id": "d97cda36-6f4b-4169-bbfd-f94e54c97905",
   "metadata": {},
   "outputs": [],
   "source": [
    "Answer4."
   ]
  },
  {
   "cell_type": "code",
   "execution_count": null,
   "id": "2a80074c-8ed0-4026-8e4f-0cf55d7f77b1",
   "metadata": {},
   "outputs": [],
   "source": [
    " Grading in the exam: A+,A,B+,b,C,D,E\n",
    "    colour of mangoes: yellow , green , orange , red\n",
    "Both are Qualitative data"
   ]
  },
  {
   "cell_type": "code",
   "execution_count": null,
   "id": "ee66c34e-7bf7-47c4-b803-3e083e2c1717",
   "metadata": {},
   "outputs": [],
   "source": [
    "remains are Qunatitative data "
   ]
  },
  {
   "cell_type": "code",
   "execution_count": null,
   "id": "f827bc1b-27b4-40a3-8e79-e3d2d75992b8",
   "metadata": {},
   "outputs": [],
   "source": [
    "Answer5."
   ]
  },
  {
   "cell_type": "code",
   "execution_count": null,
   "id": "975381c7-2563-4ab2-ae29-1a30f72810a9",
   "metadata": {},
   "outputs": [],
   "source": [
    "1. Nominal scale data: orders does not matters\n",
    "   eg: gender,blood groups, colours etc.\n",
    "2. odinal scale data: order matters and diffrences can not be measured\n",
    " eg: customer feedback\n",
    "    1. best\n",
    "    2. good\n",
    "    3. bad\n",
    "3. Interval scale data: order matters and diffrences can be measured but  ratio not. NO 'o' starting point.\n",
    "  eg: temprature variable\n",
    "4. Ratio scale Data: order matters , diffrences and ratio both are measurable and it contains 'o' sarting point\n",
    "  eg: students marks in class:\n",
    "        [90,60,50,80,30,25,68]"
   ]
  },
  {
   "cell_type": "code",
   "execution_count": null,
   "id": "d4252033-c2ab-448c-8c34-19a0ccdc720e",
   "metadata": {},
   "outputs": [],
   "source": [
    "Answer6."
   ]
  },
  {
   "cell_type": "code",
   "execution_count": null,
   "id": "cb13205a-4cac-435c-b208-62de930859ad",
   "metadata": {},
   "outputs": [],
   "source": [
    "Without understanding that which level of the data , we can not process it so it is mandatory to measure level of \n",
    "scale. "
   ]
  },
  {
   "cell_type": "code",
   "execution_count": null,
   "id": "b359202b-6a25-42f7-99fe-29a4a28c094a",
   "metadata": {},
   "outputs": [],
   "source": [
    "Answer7."
   ]
  },
  {
   "cell_type": "code",
   "execution_count": null,
   "id": "a22a8349-4415-4c29-a1df-58695bcb6208",
   "metadata": {},
   "outputs": [],
   "source": [
    "In the nominal data order does not matter but in odinal order matters\n",
    "eg of nominal: gender , colours , habbits , pin code\n",
    "eg of odinal : customer feedback\n",
    "                1. best\n",
    "                2. good\n",
    "                3. bad"
   ]
  },
  {
   "cell_type": "code",
   "execution_count": null,
   "id": "b7a586cb-00ff-4d49-95d2-64e6b3ad4a02",
   "metadata": {},
   "outputs": [],
   "source": [
    "Answer8."
   ]
  },
  {
   "cell_type": "code",
   "execution_count": null,
   "id": "6b8b95da-6bcd-4879-ab12-ab2b18112be8",
   "metadata": {},
   "outputs": [],
   "source": [
    "odinal type of plot can be used to display data in terms of range"
   ]
  },
  {
   "cell_type": "code",
   "execution_count": null,
   "id": "e9fa1883-8b25-496a-aec9-c9b6a1156236",
   "metadata": {},
   "outputs": [],
   "source": [
    "Answer9."
   ]
  },
  {
   "cell_type": "code",
   "execution_count": null,
   "id": "d15a6f8f-166c-4402-abc3-3d2715d64a4a",
   "metadata": {},
   "outputs": [],
   "source": [
    "Diffrences between descriptive and infrential statistics:\n",
    "    Descriptive: it consists os organizing and summarizing the data.\n",
    "    eg: avg height\n",
    "    Infrential: it consists of using data you have measured to form conclusion.\n",
    "    eg: exit poll"
   ]
  },
  {
   "cell_type": "code",
   "execution_count": null,
   "id": "908030d1-86f3-4b63-91eb-32e7dd23af2d",
   "metadata": {},
   "outputs": [],
   "source": [
    "Answer10."
   ]
  },
  {
   "cell_type": "code",
   "execution_count": null,
   "id": "7d8b690a-f659-4c07-bf73-a3853472e7ba",
   "metadata": {},
   "outputs": [],
   "source": [
    "There are some measure of central tendency:\n",
    "    1. mean\n",
    "    2. mode\n",
    "    3. median\n",
    "There are measure of dispersion:\n",
    "    1"
   ]
  }
 ],
 "metadata": {
  "kernelspec": {
   "display_name": "Python 3 (ipykernel)",
   "language": "python",
   "name": "python3"
  },
  "language_info": {
   "codemirror_mode": {
    "name": "ipython",
    "version": 3
   },
   "file_extension": ".py",
   "mimetype": "text/x-python",
   "name": "python",
   "nbconvert_exporter": "python",
   "pygments_lexer": "ipython3",
   "version": "3.10.6"
  }
 },
 "nbformat": 4,
 "nbformat_minor": 5
}
